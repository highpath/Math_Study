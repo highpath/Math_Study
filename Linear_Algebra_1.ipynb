{
  "nbformat": 4,
  "nbformat_minor": 0,
  "metadata": {
    "colab": {
      "name": "Linear_Algebra_1.ipynb",
      "provenance": [],
      "private_outputs": true,
      "collapsed_sections": [],
      "authorship_tag": "ABX9TyMTPfjB+m1erHtzXOvZEMVW",
      "include_colab_link": true
    },
    "kernelspec": {
      "name": "python3",
      "display_name": "Python 3"
    }
  },
  "cells": [
    {
      "cell_type": "markdown",
      "metadata": {
        "id": "view-in-github",
        "colab_type": "text"
      },
      "source": [
        "<a href=\"https://colab.research.google.com/github/highpath/Math_Study/blob/master/Linear_Algebra_1.ipynb\" target=\"_parent\"><img src=\"https://colab.research.google.com/assets/colab-badge.svg\" alt=\"Open In Colab\"/></a>"
      ]
    },
    {
      "cell_type": "markdown",
      "metadata": {
        "id": "9cmL-vhi9EUE",
        "colab_type": "text"
      },
      "source": [
        "선형대수학 : 행렬, 벡터라 하는 두 가지 수학적 대상을 연구하는 학문\n",
        "\n"
      ]
    },
    {
      "cell_type": "markdown",
      "metadata": {
        "id": "glmYWBvc9nQK",
        "colab_type": "text"
      },
      "source": [
        "### 행렬\n",
        "\n",
        "행렬은 수학적 대상으로서 다양한 응용이 가능합니다.\n",
        "\n"
      ]
    },
    {
      "cell_type": "markdown",
      "metadata": {
        "id": "cfLyHpOt_QVb",
        "colab_type": "text"
      },
      "source": [
        "### 벡터\n",
        "\n",
        "수학적 구조\n",
        "\n",
        "\"벡터 공간\" : 선형 대수학의 본격적인 시작점"
      ]
    },
    {
      "cell_type": "markdown",
      "metadata": {
        "id": "2xclC4AMQ6d6",
        "colab_type": "text"
      },
      "source": [
        "# 1강. 행렬과 행렬식\n",
        "[1강 강의록](https://drive.google.com/file/d/1sAHAxH_lP1I3tUCXCFOOZPoBGbBC5kPj/view)"
      ]
    },
    {
      "cell_type": "markdown",
      "metadata": {
        "id": "RjeNGDJ-OdlS",
        "colab_type": "text"
      },
      "source": [
        "## 1. 행렬"
      ]
    },
    {
      "cell_type": "markdown",
      "metadata": {
        "id": "JyWSkcZNAFS9",
        "colab_type": "text"
      },
      "source": [
        "### (1) 용어 정리\n",
        "\n",
        "- 성분(component, entry) := 행렬 안에 배열된 구성원(=항=원소) -> $ a_{ij} $\n",
        "- 행 := 행렬의 가로줄\n",
        "- 열 := 행렬의 세로줄\n",
        "- $ m \\times n $ 행렬 := m개의 행과 n개의 열로 이루어진 행렬. -> m by n 행렬\n",
        "    > 표현 : $ (a_{ij})_{m \\times n} $ or $ (a_{ij}) $\n",
        "    \n",
        "- 주대각선 := 행렬의 왼쪽 위에서 오른쪽 아래를 가르는 선\n",
        "- 대각성분(diagonal component) := 주대각선에 걸치는, 행과 열의 지표수가 같은 성분 -> $(i,i)$ 성분\n",
        "    - 대각행렬 : 대각성분들로만 이루어진 행렬\n",
        "- 영행렬 := 모든 성분이 0인 행렬\n",
        "- 전치행렬(Transpose Matrix) := ($ a_{ij} $)에 대하여\n",
        "($ a_{ji} $)\n",
        "- 대칭행렬 := $ A = A^T $ 인 $ A $\n",
        "- 정사각행렬 := 행, 열의 개수가 같은 행렬\n",
        "- 단위행렬 := 모든 대각성분이 1이고, 그 외의 성분은 0인 정사각행렬 $ I_{n \\times n} $"
      ]
    },
    {
      "cell_type": "markdown",
      "metadata": {
        "id": "bvCvy2moBeRZ",
        "colab_type": "text"
      },
      "source": [
        "### (2) 행렬의 연산\n",
        "$ m \\times n $ 행렬 $ A=(a_{ij}),B=(b_{ij}) $ 에 대해\n",
        "\n",
        "1. 덧셈과 뺄셈\n",
        "    > $ A \\pm B = (a_{ij} \\pm b_{ij}) $\n",
        "\n",
        "2. 상수배\n",
        "    > 상수 $c$ 에 대해 $cA=(ca_{ij})$\n",
        "\n",
        "3. 곱셈\n",
        "    > $m \\times n$ 행렬 $A=(a_{ij})$ 와 $n \\times r$ 행렬 $B=(b_{jk})$ 에 대해\n",
        "    > $AB=(c_{ik}) : m \\times n $ 행렬  \n",
        "    > 단, $c_{ik} = \\sum_{j=1}^n a_{ij} b_{jk} $  \n",
        "\n",
        "    ※ 행렬의 곱셈은 교환법칙이 성립되지 않는다.\n"
      ]
    },
    {
      "cell_type": "markdown",
      "metadata": {
        "id": "wK1m2II0TskJ",
        "colab_type": "text"
      },
      "source": [
        "\n",
        "행렬의 곱은 두 행렬의 합성이라 볼 수 있다.\n",
        "$$\n",
        "\\begin{aligned}\n",
        "f(x,y) &= (ax+by, cx+dy) \\\\\n",
        "g(x,y) &= (px+qy, rx+sy) \\\\\n",
        "f \\cdot g &= ((ap+br)x+(aq+bs)y,\\ (cp+dr)x+(cq+ds)y)\n",
        "\\end{aligned}\n",
        "$$\n",
        "\n",
        "---\n",
        "\n",
        "$$\n",
        "\\begin{aligned}\n",
        "F = \\begin{pmatrix}\n",
        "\\ a & b\\ \\\\\n",
        "\\ c & d\\\n",
        "\\end{pmatrix},\\quad G = \\begin{pmatrix}\n",
        "\\ p & q\\ \\\\\n",
        "\\ r & s\\\n",
        "\\end{pmatrix} \\\\\n",
        "F \\cdot G = \\begin{pmatrix}\n",
        "\\ ap+br & aq+bs\\ \\\\\n",
        "\\ cp+cq & dr+ds\\\n",
        "\\end{pmatrix}\n",
        "\\end{aligned}\n",
        "$$"
      ]
    },
    {
      "cell_type": "markdown",
      "metadata": {
        "id": "tjmVJjiYQ1_r",
        "colab_type": "text"
      },
      "source": [
        "## 2. 연립일차방정식\n",
        "\n",
        "행렬이라는 것은 연립일차방정식을 해결하기 위한 방법으로 고안되었다.\n",
        "행렬이라는 걸로 어떻게 연립일차방정식을 푸는지"
      ]
    },
    {
      "cell_type": "markdown",
      "metadata": {
        "id": "Le6gvJTtRNlC",
        "colab_type": "text"
      },
      "source": [
        "### (1) 행렬의 표현\n",
        "\n",
        "예를 들어, \n",
        "1. $\\begin{pmatrix} 1 & 2 & 5\\\\ 2 & 3 & 8 \\end{pmatrix}$ 표현 => 가우스 조던 소거법\n",
        "\n",
        "2. $\\begin{pmatrix} 1 & 2\\\\ 2 & 3\\end{pmatrix} \n",
        "\\begin{pmatrix} x\\\\ y\\end{pmatrix} = \\begin{pmatrix} 5\\\\ 8\\end{pmatrix}$ 표현 => 역행렬 이용\n",
        "\n",
        "- 계수들로 만든 행렬 = 계수 행렬\n",
        "- 상수들로 만든 행렬 = 상수 행렬\n",
        "- 계수, 상수 모두 합친 행렬 = 첨가 행렬"
      ]
    },
    {
      "cell_type": "markdown",
      "metadata": {
        "id": "9xJovTqZvfgo",
        "colab_type": "text"
      },
      "source": [
        "### (2) 가우스 조던 소거법\n",
        "다음 세 가지의 **기본 행 연산**을 통해 연립일차방정식의 첨가행렬을 기약 행사다리꼴로 변환하여 해를 구한다.\n",
        "\n",
        "행사다리꼴 -> 가우스 소거법\n",
        "\n",
        "기약 행사다리꼴 -> 가우스 조던 소거법\n",
        "\n",
        "(변형 조건) 1. 간단해야 한다. 2. 고유의 해가 변하면 안된다.\n",
        "\n",
        "1. 한 행을 상수배한다.\n",
        "2. 한 행을 상수배하여 다른 행에 더한다.\n",
        "3. 두 행을 맞바꾼다.\n",
        "\n",
        "부정형, 특정한 상수해로 답을 낼 수 없는 경우에 매개변수, 임의의 상수를 잡아서 나머지를 처리한다.(일반해)"
      ]
    },
    {
      "cell_type": "markdown",
      "metadata": {
        "id": "CPFr4C0TviSq",
        "colab_type": "text"
      },
      "source": [
        "### (3) 역행렬 이용\n",
        "\n",
        "연립일차방정식 $AX=B$ 에서 $A$의 역행렬 $A^{-1}$ 가 존재하면, $X=A^{-1}B$이다.\n",
        "\n",
        "예를 들어,\n",
        "\n",
        "$\\begin{pmatrix} 1 & 2\\\\ 2 & 3\\end{pmatrix} \n",
        "\\begin{pmatrix} x\\\\ y\\end{pmatrix} = \\begin{pmatrix} 5\\\\ 8\\end{pmatrix}$\n",
        "<=> $\\begin{pmatrix} x\\\\ y\\end{pmatrix} = \\begin{pmatrix} 1 & 2\\\\ 2 & 3\\end{pmatrix}^{-1}\n",
        "\\begin{pmatrix} 5\\\\ 8\\end{pmatrix}$\n",
        "\n",
        "역행렬이 존재하는지 안하는지 어떻게 파악하지?\n",
        "역행렬이 존재하지 않으면 부정(해가 무수히 많은 경우)이 나오거나 불능(해가 없는 경우)이 나온다.\n",
        "역행렬이 존재하면 유일한 상수해가 나오게 되어있다.\n",
        "역행렬을 실제로 어떻게 연산하지?"
      ]
    },
    {
      "cell_type": "markdown",
      "metadata": {
        "id": "ZEskXtCaOTGz",
        "colab_type": "text"
      },
      "source": [
        "## 3. 행렬식"
      ]
    },
    {
      "cell_type": "markdown",
      "metadata": {
        "id": "Ea9j8DDbOjQ_",
        "colab_type": "text"
      },
      "source": [
        "#### (1) 행렬식이란?\n",
        "정사각행렬 A를 하나의 수로써 대응시키는 특별한 함수. $detA=|A|$\n",
        "\n",
        "> $det$ : determinant(판별한다)\n",
        "\n",
        "> 행렬식은 쓰임새가 무궁무진하다\n",
        "\n",
        "이때, A가\n",
        "1. $0 \\times 0$ -> $det()=0$\n",
        "2. $1 \\times 1$ -> $det(a)=a$\n",
        "3. $2 \\times 2$ -> $det\\begin{pmatrix} a_{11} a_{12} \\\\ a_{21} a_{22} \\end{pmatrix}=a_{11} a_{22}-a_{12} a_{21}$\n",
        "4. $3 \\times 3$ -> $det\\begin{pmatrix} a_{11} a_{12} a_{13}\\\\\n",
        "a_{21} a_{22} a_{23} \\\\\n",
        "a_{31} a_{32} a_{33} \\end{pmatrix}\n",
        "= a_{11}M_{11} - a_{12}M_{12} + a_{13}M_{13}$\n",
        "> 굳이 1행을 훑지 않아도 1열,2열,3열,2행,3행 상관 없다. 부호만 + - + - 주의해주자.\n",
        "5. $4 \\times 4$ -> $detA=a_{11}M_{11} - a_{12}M_{12} + a_{13}M_{13} - a_{14}M_{14}$\n",
        "\n",
        "$M_{ij}$ = 원래 행렬에서 $i$행과 $j$열을 제외한 나머지 성분으로 만든 행렬의 행렬식"
      ]
    },
    {
      "cell_type": "markdown",
      "metadata": {
        "id": "3iLvtSX9VcDc",
        "colab_type": "text"
      },
      "source": [
        "* 사루스 법칙(전개) (생각없이 계산만 하고 싶을 때)\n",
        "    1. 1열, 2열을 오른쪽에 복사 붙여준다.\n",
        "    2. 왼쪽 위에서 오른쪽 아래로 내려가는 대각선의 성분을 곱하고 그 곱들을 더해준다.\n",
        "    3. 오른쪽 위에서 왼쪽 아래로 내려가는 대각선의 성분을 곱하고 그 곱들을 빼준다."
      ]
    },
    {
      "cell_type": "markdown",
      "metadata": {
        "id": "XOoQFrWqWDwn",
        "colab_type": "text"
      },
      "source": [
        "### (2) 역행렬\n",
        "행렬식이 $0$이면 역행렬이 존재하지 않는다. 즉, 행렬식이 $0$이 아닌 정사각행렬 $A$의 역행렬 $A^{-1}$은 $A^{-1}=\\frac{1}{detA}\n",
        "\\begin{pmatrix} C_{11} & C_{21} & \\cdots \\\\\n",
        "C_{21} & C_{22} & \\cdots \\\\\n",
        "\\vdots & \\vdots & \\ddots \\\\\n",
        "\\end{pmatrix}$\n",
        "(단, $C_{ij}=(-1)^{i+j}M_{ij}$)\n"
      ]
    },
    {
      "cell_type": "markdown",
      "metadata": {
        "id": "qPnMv9KBHuab",
        "colab_type": "text"
      },
      "source": [
        "\n",
        "$A \\cdot \\square = I  $\n",
        "\n",
        "$\\begin{pmatrix} a_{11} & a_{12} & \\cdots & a_{1n}\\\\\n",
        "a_{21} & a_{22} & \\cdots & a_{2n}\\\\\n",
        "\\vdots & \\vdots & \\cdots & \\vdots\\\\\n",
        "a_{n1} & a_{n2} & \\cdots & a_{nn}\n",
        "\\end{pmatrix}\n",
        "\\begin{pmatrix} C_{11} & C_{21} & \\cdots & C_{n1}\\\\\n",
        "C_{21} & C_{22} & \\cdots & C_{n2}\\\\\n",
        "\\vdots & \\vdots & \\cdots & \\vdots\\\\\n",
        "C_{n1} & C_{n2} & \\cdots & C_{nn}\n",
        "\\end{pmatrix}\n",
        "= \\begin{pmatrix} detA & 0 & \\cdots & 0 \\\\\n",
        "0 & detA & 0 & 0 \\\\\n",
        "\\vdots & \\vdots & \\ddots & \\vdots \\\\\n",
        "0 & 0 & 0 & detA \\\\\n",
        "\\end{pmatrix}$\n",
        "\n",
        "$ A \\cdot adjA = detA \\cdot I $\n",
        "\n",
        "$  A \\cdot \\frac{adjA}{detA}=I$"
      ]
    },
    {
      "cell_type": "markdown",
      "metadata": {
        "id": "dH77LmaUX4_E",
        "colab_type": "text"
      },
      "source": [
        "※ $ AB=I \\\\\n",
        "BABB^{-1} = BIB^{-1}\\\\\n",
        "BA = I\n",
        "$\n"
      ]
    },
    {
      "cell_type": "markdown",
      "metadata": {
        "id": "cfGXFkaMY-m2",
        "colab_type": "text"
      },
      "source": [
        "### (3) 크래머 공식\n",
        "연립일차방정식 $AX=B$ 에서, $A$가 행렬식이 $0$이 아닌 정사각행렬일 때,\n",
        "$\n",
        "x_j = \\frac{detA_j}{detA}\n",
        "$\n",
        "\n",
        "단, $j=1,2,\\cdots, n$ 이고 $A_j$는 $A$의 $j$번째 열을 $B$의 $j$번째 열로 바꾼 행렬이다."
      ]
    },
    {
      "cell_type": "code",
      "metadata": {
        "id": "bucbT9T7hOmi",
        "colab_type": "code",
        "colab": {}
      },
      "source": [
        ""
      ],
      "execution_count": null,
      "outputs": []
    }
  ]
}