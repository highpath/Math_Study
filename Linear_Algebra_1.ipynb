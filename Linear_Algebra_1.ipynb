{
  "nbformat": 4,
  "nbformat_minor": 0,
  "metadata": {
    "colab": {
      "name": "Linear_Algebra_1.ipynb",
      "provenance": [],
      "private_outputs": true,
      "collapsed_sections": [],
      "authorship_tag": "ABX9TyMXq543RAcD+ADdqnKdNte3",
      "include_colab_link": true
    },
    "kernelspec": {
      "name": "python3",
      "display_name": "Python 3"
    }
  },
  "cells": [
    {
      "cell_type": "markdown",
      "metadata": {
        "id": "view-in-github",
        "colab_type": "text"
      },
      "source": [
        "<a href=\"https://colab.research.google.com/github/highpath/Math_Study/blob/master/Linear_Algebra_1.ipynb\" target=\"_parent\"><img src=\"https://colab.research.google.com/assets/colab-badge.svg\" alt=\"Open In Colab\"/></a>"
      ]
    },
    {
      "cell_type": "markdown",
      "metadata": {
        "id": "9cmL-vhi9EUE",
        "colab_type": "text"
      },
      "source": [
        "선형대수학 : 행렬, 벡터라 하는 두 가지 수학적 대상을 연구하는 학문\n",
        "\n"
      ]
    },
    {
      "cell_type": "markdown",
      "metadata": {
        "id": "glmYWBvc9nQK",
        "colab_type": "text"
      },
      "source": [
        "### 행렬\n",
        "\n",
        "행렬은 수학적 대상으로서 다양한 응용이 가능합니다.\n",
        "\n"
      ]
    },
    {
      "cell_type": "markdown",
      "metadata": {
        "id": "cfLyHpOt_QVb",
        "colab_type": "text"
      },
      "source": [
        "### 벡터\n",
        "\n",
        "수학적 구조\n",
        "\n",
        "\"벡터 공간\" : 선형 대수학의 본격적인 시작점"
      ]
    },
    {
      "cell_type": "markdown",
      "metadata": {
        "id": "2xclC4AMQ6d6",
        "colab_type": "text"
      },
      "source": [
        "# 1강. 행렬과 행렬식\n",
        "\n",
        "## 1. 행렬\n"
      ]
    },
    {
      "cell_type": "markdown",
      "metadata": {
        "id": "JyWSkcZNAFS9",
        "colab_type": "text"
      },
      "source": [
        "### (1) 용어 정리\n",
        "\n",
        "- 성분(component, entry) := 행렬 안에 배열된 구성원(=항=원소) -> $ a_{ij} $\n",
        "- 행 := 행렬의 가로줄\n",
        "- 열 := 행렬의 세로줄\n",
        "- $ m \\times n $ 행렬 := m개의 행과 n개의 열로 이루어진 행렬. -> m by n 행렬\n",
        "    > 표현 : $ (a_{ij})_{m \\times n} $ or $ (a_{ij}) $\n",
        "    \n",
        "- 주대각선 := 행렬의 왼쪽 위에서 오른쪽 아래를 가르는 선\n",
        "- 대각성분(diagonal component) := 주대각선에 걸치는, 행과 열의 지표수가 같은 성분 -> $(i,i)$ 성분\n",
        "    - 대각행렬 : 대각성분들로만 이루어진 행렬\n",
        "- 영행렬 := 모든 성분이 0인 행렬\n",
        "- 전치행렬(Transpose Matrix) := ($ a_{ij} $)에 대하여\n",
        "($ a_{ji} $)\n",
        "- 대칭행렬 := $ A = A^T $ 인 $ A $\n",
        "- 정사각행렬 := 행, 열의 개수가 같은 행렬\n",
        "- 단위행렬 := 모든 대각성분이 1이고, 그 외의 성분은 0인 정사각행렬 $ I_{n \\times n} $"
      ]
    },
    {
      "cell_type": "markdown",
      "metadata": {
        "id": "bvCvy2moBeRZ",
        "colab_type": "text"
      },
      "source": [
        "### (2) 행렬의 연산\n",
        "$ m \\times n $ 행렬 $ A=(a_{ij}),B=(b_{ij}) $ 에 대해\n",
        "\n",
        "1. 덧셈과 뺄셈\n",
        "    > $ A ± B = (a_{ij}±b_{ij}) $\n",
        "\n",
        "2. 상수배\n",
        "    > 상수 $c$ 에 대해 $cA=(ca_{ij})$\n",
        "\n",
        "3. 곱셈\n",
        "    > $m \\times n$ 행렬 $A=(a_{ij})$ 와 $n \\times r$ 행렬 $B=(b_{jk})$ 에 대해\n",
        "    > $AB=(c_{ik}) : m \\times n $ 행렬  \n",
        "    > 단, $c_{ik} = \\sum_{j=1}^n a_{ij} b_{jk} $  \n",
        "\n",
        "    ※ 행렬의 곱셈은 교환법칙이 성립되지 않는다.\n"
      ]
    },
    {
      "cell_type": "markdown",
      "metadata": {
        "id": "wK1m2II0TskJ",
        "colab_type": "text"
      },
      "source": [
        "\n",
        "행렬의 곱은 두 행렬의 합성이라 볼 수 있다.\n",
        "$$\n",
        "\\begin{aligned}\n",
        "f(x,y) &= (ax+by, cx+dy) \\\\\n",
        "g(x,y) &= (px+qy, rx+sy) \\\\\n",
        "f \\cdot g &= ((ap+br)x+(aq+bs)y,\\ (cp+dr)x+(cq+ds)y)\n",
        "\\end{aligned}\n",
        "$$\n",
        "\n",
        "---\n",
        "\n",
        "$$\n",
        "\\begin{aligned}\n",
        "F = \\begin{vmatrix}\n",
        "\\ a & b\\ \\\\\n",
        "\\ c & d\\\n",
        "\\end{vmatrix},\\quad G = \\begin{vmatrix}\n",
        "\\ p & q\\ \\\\\n",
        "\\ r & s\\\n",
        "\\end{vmatrix} \\\\\n",
        "F \\cdot G = \\begin{vmatrix}\n",
        "\\ ap+br & aq+bs\\ \\\\\n",
        "\\ cp+cq & dr+ds\\\n",
        "\\end{vmatrix}\n",
        "\\end{aligned}\n",
        "$$"
      ]
    },
    {
      "cell_type": "markdown",
      "metadata": {
        "id": "tjmVJjiYQ1_r",
        "colab_type": "text"
      },
      "source": [
        "## 2. 연립일차방정식"
      ]
    },
    {
      "cell_type": "markdown",
      "metadata": {
        "id": "Le6gvJTtRNlC",
        "colab_type": "text"
      },
      "source": [
        "### (1) 행렬의 표현\n",
        "예를 들어, \n",
        "$$ \\begin{aligned} \n",
        "\\dot{x} & = \\sigma(y-x) \\\\\n",
        "\\dot{y} & = \\rho x - y -xz \\\\ \n",
        "\\end{aligned}\n",
        "$$"
      ]
    }
  ]
}