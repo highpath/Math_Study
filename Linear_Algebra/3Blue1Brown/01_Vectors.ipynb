{
  "nbformat": 4,
  "nbformat_minor": 0,
  "metadata": {
    "colab": {
      "name": "01_Vectors.ipynb",
      "provenance": [],
      "collapsed_sections": [
        "K11bbulPX6aE"
      ],
      "authorship_tag": "ABX9TyO0uZVhpC/ug+caju8858xh",
      "include_colab_link": true
    },
    "kernelspec": {
      "name": "python3",
      "display_name": "Python 3"
    }
  },
  "cells": [
    {
      "cell_type": "markdown",
      "metadata": {
        "id": "view-in-github",
        "colab_type": "text"
      },
      "source": [
        "<a href=\"https://colab.research.google.com/github/highpath/Math_study/blob/master/Linear_Algebra/3Blue1Brown/01_Vectors.ipynb\" target=\"_parent\"><img src=\"https://colab.research.google.com/assets/colab-badge.svg\" alt=\"Open In Colab\"/></a>"
      ]
    },
    {
      "cell_type": "markdown",
      "metadata": {
        "id": "kUiDmk2IhHtB",
        "colab_type": "text"
      },
      "source": [
        "> *\\\"The introduction of numbers as coordinates is an act of violence.\\\"*  \n",
        "> \\- Hermann Weyl"
      ]
    },
    {
      "cell_type": "markdown",
      "metadata": {
        "id": "fDXdRWNUXdrL",
        "colab_type": "text"
      },
      "source": [
        "# 1. Vector\n",
        "- Physics: Arrows\n",
        "    - Length & Direction\n",
        "    - can move a vector all around\n",
        "    - Two-dimensional & Three-dimensional\n",
        "- Computer science: Lists of Numbers\n",
        "    - ex) house prices\n",
        "        - Square footage: 2,600 ft$^2$, Price: \\$300,000\n",
        "        - $ \\begin{bmatrix} 2,600 \\\\ 300,000 \\end{bmatrix}$ (order matters)\n",
        "    - two-dimensional vectors\n",
        "        - vector: list\n",
        "        - two-dimensional: length of list\n",
        "- Mathematics: Both(a vector can be anything)"
      ]
    },
    {
      "cell_type": "markdown",
      "metadata": {
        "id": "1aALn1F0X3Fd",
        "colab_type": "text"
      },
      "source": [
        "# 2. Coordinate System\n",
        "- x-axis, y-axis, Origin\n",
        "- Vector\n",
        "    - Tail: where a vector begins\n",
        "        - In linear algebra, a vector will be rooted at the origin\n",
        "    - Tip: where a vector ends\n",
        "    - Vector coordinates: how to get from the tail(Origin) to the tip\n",
        "    - To distinguish from points, use squre brackets\n",
        "- Three-dimensional\n",
        "    - z-axis\n",
        "    - vector: an ordered triplet of numbers"
      ]
    },
    {
      "cell_type": "markdown",
      "metadata": {
        "id": "BNSkZXlMxOcf",
        "colab_type": "text"
      },
      "source": [
        "# 3. Two fundamental operations\n",
        "Linear algebra topics tend to revolve around two fundamental operations."
      ]
    },
    {
      "cell_type": "markdown",
      "metadata": {
        "id": "K11bbulPX6aE",
        "colab_type": "text"
      },
      "source": [
        "## 1) Vector Addition\n",
        "\n",
        "- Definition: Tip-to-Tail\n",
        "- Why: each vector represents a certain **movement**\n",
        "- Computation: $\\begin{bmatrix} x_1 \\\\ y_1 \\end{bmatrix} + \\begin{bmatrix} x_2 \\\\ y_2 \\end{bmatrix} = \\begin{bmatrix} x_1+x_1 \\\\ y_1+y_2 \\end{bmatrix}$"
      ]
    },
    {
      "cell_type": "markdown",
      "metadata": {
        "id": "PEyHHXTRYCSn",
        "colab_type": "text"
      },
      "source": [
        "## 2) Scalar mutiplication\n",
        "\n",
        "- **Scaling**: process of stretching, squishing, reversing the direction of a vector\n",
        "- **Scalars**: a number scaling some vector\n",
        "(it's common to use the word \"scalar\" interchangably with the word \"number\".)\n",
        "- Computation: $a\\begin{bmatrix} x \\\\ y \\end{bmatrix}=\\begin{bmatrix} ax \\\\ ay \\end{bmatrix}$"
      ]
    }
  ]
}